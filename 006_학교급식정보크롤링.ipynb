{
  "nbformat": 4,
  "nbformat_minor": 0,
  "metadata": {
    "colab": {
      "name": "006.학교급식정보크롤링.ipynb",
      "provenance": [],
      "collapsed_sections": [],
      "authorship_tag": "ABX9TyO8x5ipyQR8Y+LBBYP+K7yq",
      "include_colab_link": true
    },
    "kernelspec": {
      "name": "python3",
      "display_name": "Python 3"
    },
    "language_info": {
      "name": "python"
    }
  },
  "cells": [
    {
      "cell_type": "markdown",
      "metadata": {
        "id": "view-in-github",
        "colab_type": "text"
      },
      "source": [
        "<a href=\"https://colab.research.google.com/github/osh9149/2022_DataScience/blob/main/006_%ED%95%99%EA%B5%90%EA%B8%89%EC%8B%9D%EC%A0%95%EB%B3%B4%ED%81%AC%EB%A1%A4%EB%A7%81.ipynb\" target=\"_parent\"><img src=\"https://colab.research.google.com/assets/colab-badge.svg\" alt=\"Open In Colab\"/></a>"
      ]
    },
    {
      "cell_type": "markdown",
      "source": [
        "#크롤링이란?\n",
        "웹페이지에서 필요한 정보를 추출해내는 것"
      ],
      "metadata": {
        "id": "UTPP34GEqxPW"
      }
    },
    {
      "cell_type": "markdown",
      "source": [
        "#Beautifulsoup 라이브러리\n",
        "HTML, XML, JSON 등 파일을 구문을 분석하는 모듈, 웹 페이지를 표현하는 HTML을 분석하기 위해 사용함."
      ],
      "metadata": {
        "id": "Vy9EBcRhrBZp"
      }
    },
    {
      "cell_type": "markdown",
      "source": [
        "#학교정보찾기\n",
        "schulCode=B100000557    #우리가 검색한 학교의 고유 코드이다. // 현재 한양대학교사범대학부속고등학교\n",
        "\n",
        "schulKndScCode=04    #01은 유치원, 02는 초등학교, 03은 중학교, 04는 고등학교를 의미한다.\n",
        "\n",
        "schulCrseScCode=4    #1은 유치원, 2는 초등학교, 3은 중학교, 4는 고등학교를 의미한다."
      ],
      "metadata": {
        "id": "deiE_gEqHJz-"
      }
    },
    {
      "cell_type": "code",
      "source": [
        "import requests\n",
        "import json\n",
        "url = 'https://schoolmenukr.ml/code/api?q=한양대학교사범대학부속고등학교'\n",
        "response = requests.get(url)\n",
        "school_infos = json.loads(response.text)\n",
        "print(school_infos)"
      ],
      "metadata": {
        "colab": {
          "base_uri": "https://localhost:8080/"
        },
        "id": "EeJki7J5G9_4",
        "outputId": "e725d781-6f98-4b0b-e6f2-44c00748ade8"
      },
      "execution_count": 1,
      "outputs": [
        {
          "output_type": "stream",
          "name": "stdout",
          "text": [
            "{'server_message': ['문제가 발생했거나 건의사항이 있는 경우 GitHub 저장소 페이지에 이슈를 남겨주세요: https://github.com/5d-jh/school-menu-api/issues'], 'school_infos': [{'website': 'http://www.hanyang-u.hs.kr/', 'estType': '부속', 'estDate': {'y': '1960', 'm': '05', 'd': '15'}, 'phone': '02-2200-3520', 'code': 'B100000557', 'estDivision': '사립', 'address': '서울특별시 성동구 마조로 42', 'name': '한양대학교사범대학부속고등학교'}]}\n"
          ]
        }
      ]
    },
    {
      "cell_type": "code",
      "source": [
        "from bs4 import BeautifulSoup\n",
        "import datetime\n",
        "import re\n",
        "\n",
        "now = str(datetime.datetime.now())\n",
        "print(now)\n",
        "\n",
        "day = now[:4] + now[5:7] + now[8:10]\n",
        "print(day)\n"
      ],
      "metadata": {
        "id": "G3zlZ-qU_dB8",
        "colab": {
          "base_uri": "https://localhost:8080/"
        },
        "outputId": "4a88da22-772c-463e-8e6c-a33a572fe963"
      },
      "execution_count": 5,
      "outputs": [
        {
          "output_type": "stream",
          "name": "stdout",
          "text": [
            "2022-07-13 22:31:02.284217\n",
            "20220713\n"
          ]
        }
      ]
    },
    {
      "cell_type": "code",
      "source": [
        "\n",
        "req = requests.get(\"http://stu.sen.go.kr/sts_sci_md01_001.do?schulCode=B100000557&schulCrseScCode=4&schulKndScCode=04&schMmealScCode=2&schYmd=20220613\")\n",
        "# req = requests.get(\"http://stu.sen.go.kr/sts_sci_md01_001.do?schulCode=B100000557&schulCrseScCode=4&schulKndScCode=04&schMmealScCode=2&schYmd=day\")\n",
        "# print(req.text)\n",
        "soup = BeautifulSoup(req.text, \"html.parser\")\n",
        "#print(soup)\n",
        "element = soup.find_all(\"tr\")\n",
        "print(element[2])\n",
        "\n"
      ],
      "metadata": {
        "colab": {
          "base_uri": "https://localhost:8080/"
        },
        "id": "E8t9O6izIYqf",
        "outputId": "dd7e9e9d-4fcd-455f-b619-28232bc75599"
      },
      "execution_count": 10,
      "outputs": [
        {
          "output_type": "stream",
          "name": "stdout",
          "text": [
            "<tr>\n",
            "<th scope=\"row\">중식</th>\n",
            "<td class=\"textC\"> </td>\n",
            "<td class=\"textC\">칼슘흑미밥★<br/>바지락살미역국★5.6.18.<br/>매운돼지갈비찜★5.6.10.13.<br/>오이도라지생채(자율)★5.6.13.<br/>야채잡채★5.6.10.13.18.<br/>총각김치★9.<br/>빵(후식)★1.2.5.6.14.<br/></td>\n",
            "<td class=\"textC\">칼슘수수밥★<br/>김치찌개★2.5.6.9.10.13.16.<br/>핫바★1.2.5.6.12.<br/>무말랭이무침★<br/>닭데리야끼조림★5.6.12.13.15.18.<br/>오리엔탈D★1.2.5.6.<br/>아이스홍시★<br/>그린샐러드(후르츠)★11.<br/></td>\n",
            "<td class=\"textC\">낙지비빔밥★5.6.10.13.<br/>배추된장국★5.6.18.<br/>꽈리고추감자조림★5.6.13.<br/>백김치★9.<br/>아이스슈★1.2.5.6.<br/>닭고기퀘사디아★1.2.5.6.12.13.15.<br/></td>\n",
            "<td class=\"textC\">마파두부덮밥★5.6.10.12.13.16.18.<br/>달걀국★1.5.9.<br/>고추잡채&amp;꽃빵★5.6.10.12.13.18.<br/>상추겉절이★5.6.13.<br/>배추김치★9.<br/>두유★5.<br/>하루견과★2.5.<br/></td>\n",
            "<td class=\"textC\">칼슘기장밥★<br/>맑은감자탕(순살)★9.10.13.<br/>베이컨볶음우동★5.6.10.12.13.18.<br/>노각생채★13.<br/>생선조림★5.6.<br/>구이김★<br/>깍두기★9.<br/>과일★<br/></td>\n",
            "<td class=\"textC last\"> </td>\n",
            "</tr>\n"
          ]
        }
      ]
    },
    {
      "cell_type": "code",
      "source": [
        "menu_list = element[2].find_all('td')\n",
        "print(menu_list)\n"
      ],
      "metadata": {
        "colab": {
          "base_uri": "https://localhost:8080/"
        },
        "id": "Yhb8zsR3KjGC",
        "outputId": "0ed4fd98-57bd-484e-a929-ce8f129147de"
      },
      "execution_count": 11,
      "outputs": [
        {
          "output_type": "stream",
          "name": "stdout",
          "text": [
            "[<td class=\"textC\"> </td>, <td class=\"textC\">칼슘흑미밥★<br/>바지락살미역국★5.6.18.<br/>매운돼지갈비찜★5.6.10.13.<br/>오이도라지생채(자율)★5.6.13.<br/>야채잡채★5.6.10.13.18.<br/>총각김치★9.<br/>빵(후식)★1.2.5.6.14.<br/></td>, <td class=\"textC\">칼슘수수밥★<br/>김치찌개★2.5.6.9.10.13.16.<br/>핫바★1.2.5.6.12.<br/>무말랭이무침★<br/>닭데리야끼조림★5.6.12.13.15.18.<br/>오리엔탈D★1.2.5.6.<br/>아이스홍시★<br/>그린샐러드(후르츠)★11.<br/></td>, <td class=\"textC\">낙지비빔밥★5.6.10.13.<br/>배추된장국★5.6.18.<br/>꽈리고추감자조림★5.6.13.<br/>백김치★9.<br/>아이스슈★1.2.5.6.<br/>닭고기퀘사디아★1.2.5.6.12.13.15.<br/></td>, <td class=\"textC\">마파두부덮밥★5.6.10.12.13.16.18.<br/>달걀국★1.5.9.<br/>고추잡채&amp;꽃빵★5.6.10.12.13.18.<br/>상추겉절이★5.6.13.<br/>배추김치★9.<br/>두유★5.<br/>하루견과★2.5.<br/></td>, <td class=\"textC\">칼슘기장밥★<br/>맑은감자탕(순살)★9.10.13.<br/>베이컨볶음우동★5.6.10.12.13.18.<br/>노각생채★13.<br/>생선조림★5.6.<br/>구이김★<br/>깍두기★9.<br/>과일★<br/></td>, <td class=\"textC last\"> </td>]\n"
          ]
        }
      ]
    },
    {
      "cell_type": "code",
      "source": [
        "# element = element[5]  # num\n",
        "element = str(menu_list)\n",
        "element = element.replace('[', '')\n",
        "element = element.replace(']', '')\n",
        "element = element.replace('<br/>', '\\n')\n",
        "element = element.replace('<td class=\"textC last\">', '')\n",
        "element = element.replace('<td class=\"textC\">', '')\n",
        "element = element.replace('</td>', '\\n')\n",
        "element = element.replace(', ', '')\n",
        "element = element.replace('.', '')\n",
        "element = re.sub(r\"\\d\", \"\", element)\n",
        "\n",
        "print(element)"
      ],
      "metadata": {
        "colab": {
          "base_uri": "https://localhost:8080/"
        },
        "id": "kUQjlIJvIY0B",
        "outputId": "3bd96eec-cf82-4e70-cbdc-3bac39c4869c"
      },
      "execution_count": 12,
      "outputs": [
        {
          "output_type": "stream",
          "name": "stdout",
          "text": [
            " \n",
            "칼슘흑미밥★\n",
            "바지락살미역국★\n",
            "매운돼지갈비찜★\n",
            "오이도라지생채(자율)★\n",
            "야채잡채★\n",
            "총각김치★\n",
            "빵(후식)★\n",
            "\n",
            "칼슘수수밥★\n",
            "김치찌개★\n",
            "핫바★\n",
            "무말랭이무침★\n",
            "닭데리야끼조림★\n",
            "오리엔탈D★\n",
            "아이스홍시★\n",
            "그린샐러드(후르츠)★\n",
            "\n",
            "낙지비빔밥★\n",
            "배추된장국★\n",
            "꽈리고추감자조림★\n",
            "백김치★\n",
            "아이스슈★\n",
            "닭고기퀘사디아★\n",
            "\n",
            "마파두부덮밥★\n",
            "달걀국★\n",
            "고추잡채&amp;꽃빵★\n",
            "상추겉절이★\n",
            "배추김치★\n",
            "두유★\n",
            "하루견과★\n",
            "\n",
            "칼슘기장밥★\n",
            "맑은감자탕(순살)★\n",
            "베이컨볶음우동★\n",
            "노각생채★\n",
            "생선조림★\n",
            "구이김★\n",
            "깍두기★\n",
            "과일★\n",
            "\n",
            " \n",
            "\n"
          ]
        }
      ]
    },
    {
      "cell_type": "code",
      "source": [
        "f=open('menu.txt','w')\n",
        "f.write(element)\n",
        "f.close()"
      ],
      "metadata": {
        "id": "L86s72-qtnTD"
      },
      "execution_count": 9,
      "outputs": []
    },
    {
      "cell_type": "code",
      "source": [
        ""
      ],
      "metadata": {
        "id": "ZsIWocwBuA60"
      },
      "execution_count": null,
      "outputs": []
    },
    {
      "cell_type": "code",
      "source": [
        ""
      ],
      "metadata": {
        "id": "jqqauT3puBFB"
      },
      "execution_count": null,
      "outputs": []
    },
    {
      "cell_type": "code",
      "source": [
        ""
      ],
      "metadata": {
        "id": "3xwxc92VuBQt"
      },
      "execution_count": null,
      "outputs": []
    }
  ]
}