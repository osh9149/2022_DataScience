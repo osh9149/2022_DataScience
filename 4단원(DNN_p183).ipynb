{
  "nbformat": 4,
  "nbformat_minor": 0,
  "metadata": {
    "colab": {
      "provenance": [],
      "authorship_tag": "ABX9TyOP7w5hBLO3vkTCvhqavcK6",
      "include_colab_link": true
    },
    "kernelspec": {
      "name": "python3",
      "display_name": "Python 3"
    },
    "language_info": {
      "name": "python"
    }
  },
  "cells": [
    {
      "cell_type": "markdown",
      "metadata": {
        "id": "view-in-github",
        "colab_type": "text"
      },
      "source": [
        "<a href=\"https://colab.research.google.com/github/osh9149/2022_DataScience/blob/main/4%EB%8B%A8%EC%9B%90(DNN_p183).ipynb\" target=\"_parent\"><img src=\"https://colab.research.google.com/assets/colab-badge.svg\" alt=\"Open In Colab\"/></a>"
      ]
    },
    {
      "cell_type": "code",
      "execution_count": 1,
      "metadata": {
        "id": "WZPHAEm1MAzz"
      },
      "outputs": [],
      "source": [
        "# -*- coding: utf-8 -*-\n",
        "# 코드 내부에 한글을 사용가능 하게 해주는 부분입니다.\n",
        "\n",
        "# 딥러닝을 구동하는 데 필요한 케라스 함수를 불러옵니다.\n",
        "from keras.models import Sequential\n",
        "from keras.layers import Dense\n",
        "\n",
        "# 필요한 라이브러리를 불러옵니다.\n",
        "import numpy\n",
        "import tensorflow as tf"
      ]
    },
    {
      "cell_type": "code",
      "source": [
        "# 실행할 때마다 같은 결과를 출력하기 위해 설정하는 부분입니다.\n",
        "seed = 0\n",
        "numpy.random.seed(seed)\n"
      ],
      "metadata": {
        "id": "SCTN5xawMLHI"
      },
      "execution_count": 4,
      "outputs": []
    },
    {
      "cell_type": "code",
      "source": [
        "# 준비된 수술 환자 데이터를 불러들입니다.\n",
        "Data_set = numpy.loadtxt(\"ThoraricSurgery.csv\", delimiter=\",\")"
      ],
      "metadata": {
        "id": "4JI6ROQZMLJz"
      },
      "execution_count": 5,
      "outputs": []
    },
    {
      "cell_type": "code",
      "source": [
        "# 환자의 기록과 수술 결과를 X와 Y로 구분하여 저장합니다.\n",
        "X = Data_set[:,0:17]\n",
        "Y = Data_set[:,17]"
      ],
      "metadata": {
        "id": "TkIDx7IfMLM8"
      },
      "execution_count": 6,
      "outputs": []
    },
    {
      "cell_type": "code",
      "source": [
        "# 딥러닝 구조를 결정합니다(모델을 설정하고 실행하는 부분입니다).\n",
        "model = Sequential()\n",
        "model.add(Dense(30, input_dim=17, activation='relu'))\n",
        "model.add(Dense(1, activation='sigmoid'))"
      ],
      "metadata": {
        "id": "OUC1j5rHMLPx"
      },
      "execution_count": 7,
      "outputs": []
    },
    {
      "cell_type": "code",
      "source": [
        "# 딥러닝을 실행합니다.\n",
        "model.compile(loss='mean_squared_error', optimizer='adam', metrics=['accuracy'])\n",
        "model.fit(X, Y, epochs=30, batch_size=10)"
      ],
      "metadata": {
        "colab": {
          "base_uri": "https://localhost:8080/"
        },
        "id": "vyHcYd78MLSh",
        "outputId": "611403b8-093b-4ff4-8d53-da23d04f1509"
      },
      "execution_count": 8,
      "outputs": [
        {
          "output_type": "stream",
          "name": "stdout",
          "text": [
            "Epoch 1/30\n",
            "47/47 [==============================] - 1s 2ms/step - loss: 0.4078 - accuracy: 0.5702\n",
            "Epoch 2/30\n",
            "47/47 [==============================] - 0s 2ms/step - loss: 0.1488 - accuracy: 0.8511\n",
            "Epoch 3/30\n",
            "47/47 [==============================] - 0s 2ms/step - loss: 0.1488 - accuracy: 0.8511\n",
            "Epoch 4/30\n",
            "47/47 [==============================] - 0s 2ms/step - loss: 0.1488 - accuracy: 0.8511\n",
            "Epoch 5/30\n",
            "47/47 [==============================] - 0s 2ms/step - loss: 0.1488 - accuracy: 0.8511\n",
            "Epoch 6/30\n",
            "47/47 [==============================] - 0s 2ms/step - loss: 0.1487 - accuracy: 0.8511\n",
            "Epoch 7/30\n",
            "47/47 [==============================] - 0s 1ms/step - loss: 0.1487 - accuracy: 0.8511\n",
            "Epoch 8/30\n",
            "47/47 [==============================] - 0s 2ms/step - loss: 0.1485 - accuracy: 0.8511\n",
            "Epoch 9/30\n",
            "47/47 [==============================] - 0s 2ms/step - loss: 0.1482 - accuracy: 0.8511\n",
            "Epoch 10/30\n",
            "47/47 [==============================] - 0s 2ms/step - loss: 0.1471 - accuracy: 0.8511\n",
            "Epoch 11/30\n",
            "47/47 [==============================] - 0s 2ms/step - loss: 0.1480 - accuracy: 0.8511\n",
            "Epoch 12/30\n",
            "47/47 [==============================] - 0s 2ms/step - loss: 0.1469 - accuracy: 0.8511\n",
            "Epoch 13/30\n",
            "47/47 [==============================] - 0s 2ms/step - loss: 0.1479 - accuracy: 0.8511\n",
            "Epoch 14/30\n",
            "47/47 [==============================] - 0s 2ms/step - loss: 0.1464 - accuracy: 0.8489\n",
            "Epoch 15/30\n",
            "47/47 [==============================] - 0s 2ms/step - loss: 0.1455 - accuracy: 0.8511\n",
            "Epoch 16/30\n",
            "47/47 [==============================] - 0s 2ms/step - loss: 0.1470 - accuracy: 0.8489\n",
            "Epoch 17/30\n",
            "47/47 [==============================] - 0s 2ms/step - loss: 0.1458 - accuracy: 0.8532\n",
            "Epoch 18/30\n",
            "47/47 [==============================] - 0s 2ms/step - loss: 0.1449 - accuracy: 0.8532\n",
            "Epoch 19/30\n",
            "47/47 [==============================] - 0s 2ms/step - loss: 0.1463 - accuracy: 0.8489\n",
            "Epoch 20/30\n",
            "47/47 [==============================] - 0s 2ms/step - loss: 0.1454 - accuracy: 0.8511\n",
            "Epoch 21/30\n",
            "47/47 [==============================] - 0s 2ms/step - loss: 0.1442 - accuracy: 0.8532\n",
            "Epoch 22/30\n",
            "47/47 [==============================] - 0s 2ms/step - loss: 0.1434 - accuracy: 0.8532\n",
            "Epoch 23/30\n",
            "47/47 [==============================] - 0s 2ms/step - loss: 0.1448 - accuracy: 0.8511\n",
            "Epoch 24/30\n",
            "47/47 [==============================] - 0s 2ms/step - loss: 0.1443 - accuracy: 0.8532\n",
            "Epoch 25/30\n",
            "47/47 [==============================] - 0s 2ms/step - loss: 0.1427 - accuracy: 0.8553\n",
            "Epoch 26/30\n",
            "47/47 [==============================] - 0s 2ms/step - loss: 0.1447 - accuracy: 0.8553\n",
            "Epoch 27/30\n",
            "47/47 [==============================] - 0s 2ms/step - loss: 0.1443 - accuracy: 0.8532\n",
            "Epoch 28/30\n",
            "47/47 [==============================] - 0s 2ms/step - loss: 0.1427 - accuracy: 0.8532\n",
            "Epoch 29/30\n",
            "47/47 [==============================] - 0s 2ms/step - loss: 0.1409 - accuracy: 0.8574\n",
            "Epoch 30/30\n",
            "47/47 [==============================] - 0s 2ms/step - loss: 0.1429 - accuracy: 0.8553\n"
          ]
        },
        {
          "output_type": "execute_result",
          "data": {
            "text/plain": [
              "<keras.callbacks.History at 0x7f0767326250>"
            ]
          },
          "metadata": {},
          "execution_count": 8
        }
      ]
    },
    {
      "cell_type": "code",
      "source": [
        "# 결과를 출력합니다.\n",
        "print(\"\\n Accuracy: %.4f\" % (model.evaluate(X, Y)[1]))"
      ],
      "metadata": {
        "colab": {
          "base_uri": "https://localhost:8080/"
        },
        "id": "_aQurv7aMLVK",
        "outputId": "1abdb5a4-9eaa-40fb-d801-fb99e1d25da5"
      },
      "execution_count": 9,
      "outputs": [
        {
          "output_type": "stream",
          "name": "stdout",
          "text": [
            "15/15 [==============================] - 0s 2ms/step - loss: 0.1416 - accuracy: 0.8532\n",
            "\n",
            " Accuracy: 0.8532\n"
          ]
        }
      ]
    }
  ]
}