{
  "nbformat": 4,
  "nbformat_minor": 0,
  "metadata": {
    "colab": {
      "name": "WordCloud_어린왕자텍스트분석.ipynb",
      "provenance": [],
      "collapsed_sections": [],
      "authorship_tag": "ABX9TyO+1A/RdHC2bVePVRdOkkyq",
      "include_colab_link": true
    },
    "kernelspec": {
      "name": "python3",
      "display_name": "Python 3"
    },
    "language_info": {
      "name": "python"
    }
  },
  "cells": [
    {
      "cell_type": "markdown",
      "metadata": {
        "id": "view-in-github",
        "colab_type": "text"
      },
      "source": [
        "<a href=\"https://colab.research.google.com/github/osh9149/2022_DataScience/blob/main/WordCloud_%EC%96%B4%EB%A6%B0%EC%99%95%EC%9E%90%ED%85%8D%EC%8A%A4%ED%8A%B8%EB%B6%84%EC%84%9D.ipynb\" target=\"_parent\"><img src=\"https://colab.research.google.com/assets/colab-badge.svg\" alt=\"Open In Colab\"/></a>"
      ]
    },
    {
      "cell_type": "markdown",
      "source": [
        "#어린왕자 책의 내용 중 단어의 등장하는 횟수를 센다"
      ],
      "metadata": {
        "id": "qX_wlSNL7YyK"
      }
    },
    {
      "cell_type": "code",
      "execution_count": null,
      "metadata": {
        "id": "ZmA-fMcH4vwq"
      },
      "outputs": [],
      "source": [
        "import operator\n",
        "import string\n",
        "#1. 어린왕자 텍스트 파일을 읽어와서 단어가 등장하는 횟수 카운트(counts 딕셔너리에 저장)\n",
        "f = open('thelittleprince.txt')\n",
        "counts = dict()\n",
        "for line in f:\n",
        "    line = line.rstrip()\n",
        "    line = line.translate(line.maketrans('', '', string.punctuation))\n",
        "    line = line.lower()\n",
        "    words = line.split()\n",
        "    for word in words:\n",
        "        if word not in counts:\n",
        "            counts[word] = 1\n",
        "        else:\n",
        "            counts[word] += 1\n",
        "\n",
        "print(counts)\n"
      ]
    },
    {
      "cell_type": "markdown",
      "source": [
        "#단어의 횟수에 따라 많은 순으로 정렬"
      ],
      "metadata": {
        "id": "-LMadC5W7l_p"
      }
    },
    {
      "cell_type": "code",
      "source": [
        "#2. counts 딕셔너리의 등장 횟수 '값'에 따라 정렬\n",
        "sorted_counts = sorted(counts.items(), key=operator.itemgetter(1), reverse = True) \n",
        "print(sorted_counts[:100])"
      ],
      "metadata": {
        "id": "dESTomUx5Hoi"
      },
      "execution_count": null,
      "outputs": []
    },
    {
      "cell_type": "markdown",
      "source": [
        "#빈도수가 많은 단어가 크기순으로 워드클라우드를 생성"
      ],
      "metadata": {
        "id": "bE43Ea_Q5okQ"
      }
    },
    {
      "cell_type": "code",
      "source": [
        "import matplotlib.pyplot as plt\n",
        "%matplotlib inline\n",
        "from google.colab import files\n",
        "from wordcloud import WordCloud\n",
        "\n",
        "text=open('thelittleprince.txt').read()\n",
        "wordcloud=WordCloud().generate(text)\n",
        "\n",
        "wordcloud.words_\n",
        "plt.figure(figsize=(12,12))\n",
        "plt.imshow(wordcloud, interpolation='bilinear')\n",
        "plt.axis(\"off\")\n",
        "\n",
        "plt.savefig('cloud1.png')  #이미지로 저장\n",
        "files.download('cloud1.png') #내컴퓨터로 다운로드\n",
        "\n",
        "plt.show()\n"
      ],
      "metadata": {
        "id": "rpH9cbjB5rXR"
      },
      "execution_count": null,
      "outputs": []
    },
    {
      "cell_type": "markdown",
      "source": [
        "#어린왕자 이미지를 마스크로 만들어 워드클라우드를 생성"
      ],
      "metadata": {
        "id": "6oOJ-O2u70iJ"
      }
    },
    {
      "cell_type": "code",
      "source": [
        "import numpy as np\n",
        "from PIL import Image\n",
        "from wordcloud import STOPWORDS\n",
        "\n",
        "prince_mask=np.array(Image.open(\"littleprince_mask.jpg\"))\n",
        "stopwords=set(STOPWORDS)\n",
        "stopwords.add(\"said\")\n",
        "prince_mask"
      ],
      "metadata": {
        "id": "LNLXIiGH6DF2"
      },
      "execution_count": null,
      "outputs": []
    },
    {
      "cell_type": "markdown",
      "source": [
        "#마스크 이미지 보기"
      ],
      "metadata": {
        "id": "Bo4zXGKr8kct"
      }
    },
    {
      "cell_type": "code",
      "source": [
        "plt.figure(figsize=(8,8))\n",
        "plt.imshow(prince_mask,cmap=plt.cm.gray,interpolation='bilinear')\n",
        "plt.axis(\"off\")\n",
        "plt.show()"
      ],
      "metadata": {
        "id": "NhKn3g9r6DIm"
      },
      "execution_count": null,
      "outputs": []
    },
    {
      "cell_type": "markdown",
      "source": [
        "#워드클라우드를 생성할 단어들의 빈도수에 따른 크기"
      ],
      "metadata": {
        "id": "WMrfZjDh8jg6"
      }
    },
    {
      "cell_type": "code",
      "source": [
        "wc=WordCloud(background_color=\"white\",max_words=2000,mask=prince_mask,stopwords=stopwords)\n",
        "wc=wc.generate(text)\n",
        "wc.words_"
      ],
      "metadata": {
        "id": "lT4N1_rg6DLy"
      },
      "execution_count": null,
      "outputs": []
    },
    {
      "cell_type": "markdown",
      "source": [
        "#마스크 이미지에 워드클라우드 생성"
      ],
      "metadata": {
        "id": "bcdKSFiv80VB"
      }
    },
    {
      "cell_type": "code",
      "source": [
        "plt.figure(figsize=(12,12))\n",
        "plt.imshow(wc,interpolation='bilinear')\n",
        "plt.axis(\"off\")\n",
        "\n",
        "plt.savefig('cloud2.png')  #이미지로 저장\n",
        "files.download('cloud2.png') #내컴퓨터로 다운로드\n",
        "\n",
        "plt.show()\n"
      ],
      "metadata": {
        "id": "MFDGU_ey6DPG"
      },
      "execution_count": null,
      "outputs": []
    },
    {
      "cell_type": "markdown",
      "source": [
        "#흑백으로 만들기"
      ],
      "metadata": {
        "id": "xAb0Ob2_GxSp"
      }
    },
    {
      "cell_type": "code",
      "source": [
        "# BLACK BACKGROUND WITH GREY LETTERS\n",
        "import random\n",
        "# text=open('thelittleprince.txt').read()\n",
        "\n",
        "def grey_color_func(word, font_size, position, orientation, random_state=None,\n",
        "                    **kwargs):\n",
        "    return \"hsl(0, 0%%, %d%%)\" % random.randint(60, 100)\n",
        "\n",
        "wc=WordCloud(background_color=\"Black\",max_words=2000,mask=prince_mask,stopwords=stopwords)\n",
        "wc=wc.generate(text)\n",
        "wc.recolor(color_func=grey_color_func)"
      ],
      "metadata": {
        "id": "v0jmk4yK6DSu"
      },
      "execution_count": null,
      "outputs": []
    },
    {
      "cell_type": "code",
      "source": [
        "plt.figure(figsize=(12,12))\n",
        "plt.imshow(wc,interpolation='bilinear')\n",
        "plt.axis(\"off\")\n",
        "\n",
        "plt.savefig('cloud3.png')  #이미지로 저장\n",
        "files.download('cloud3.png') #내컴퓨터로 다운로드\n",
        "\n",
        "plt.show()"
      ],
      "metadata": {
        "id": "0V7eOW5IFsjc"
      },
      "execution_count": null,
      "outputs": []
    }
  ]
}